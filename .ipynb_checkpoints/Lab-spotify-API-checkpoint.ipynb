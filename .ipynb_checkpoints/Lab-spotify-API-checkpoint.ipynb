{
 "cells": [
  {
   "cell_type": "code",
   "execution_count": 1,
   "id": "241fb71b-bd51-422c-8949-b6187bb0b35d",
   "metadata": {},
   "outputs": [],
   "source": [
    "import pandas as pd\n",
    "import spotipy\n",
    "from spotipy.oauth2 import SpotifyClientCredentials\n",
    "import json\n",
    "import time\n",
    "from credentials import *"
   ]
  },
  {
   "cell_type": "code",
   "execution_count": 2,
   "id": "79f5cc4c-0047-4bd0-b902-4f170aa6f70d",
   "metadata": {},
   "outputs": [],
   "source": [
    "sp = spotipy.Spotify(auth_manager=SpotifyClientCredentials(client_id=client_id,\n",
    "                                                           client_secret=client_secret))"
   ]
  },
  {
   "cell_type": "code",
   "execution_count": 3,
   "id": "ce0f2aaa-1529-44ba-8fdd-bcc666f4180f",
   "metadata": {},
   "outputs": [],
   "source": [
    "def search_song(title, artist):\n",
    "    \n",
    "    query = \"tracks: \"+title+\" artist: \"+artist\n",
    "    #print(query)\n",
    "\n",
    "    try:\n",
    "        result = sp.search(query, limit=1)\n",
    "        song_id = result['tracks']['items'][0]['id']\n",
    "    except:\n",
    "        song_id = \"not_found\"\n",
    "\n",
    "    return song_id  "
   ]
  },
  {
   "cell_type": "code",
   "execution_count": 4,
   "id": "f803628c-5e46-4103-8e0c-3ffbd6e21b76",
   "metadata": {},
   "outputs": [
    {
     "data": {
      "text/plain": [
       "'1AynHbA5tcynFDplpCY5lz'"
      ]
     },
     "execution_count": 4,
     "metadata": {},
     "output_type": "execute_result"
    }
   ],
   "source": [
    "search_song(\"Hello\", \"Adele\")"
   ]
  },
  {
   "cell_type": "code",
   "execution_count": 7,
   "id": "e5c24c0e-4cec-41c8-9c1b-3bde39939e9c",
   "metadata": {},
   "outputs": [
    {
     "data": {
      "text/plain": [
       "Artist    0\n",
       "Title     2\n",
       "dtype: int64"
      ]
     },
     "execution_count": 7,
     "metadata": {},
     "output_type": "execute_result"
    }
   ],
   "source": [
    "df1 = pd.read_csv('/Users/jxhn/Desktop/IRONHACK/Week_6/Day_1/Morning/lab-web-scraping-single-page/hot100.csv')\n",
    "df2 = pd.read_csv('/Users/jxhn/Desktop/IRONHACK/Week_6/Song_recommender/Song-Recommender/nothot100.csv')\n",
    "df2.isnull().sum()"
   ]
  },
  {
   "cell_type": "code",
   "execution_count": 8,
   "id": "d0010e45-502c-4c51-94bf-ca329327158f",
   "metadata": {},
   "outputs": [],
   "source": [
    "df2 = df2.drop(65)"
   ]
  },
  {
   "cell_type": "code",
   "execution_count": 9,
   "id": "73d6cc29-66f1-4e58-8104-93efa0c9daef",
   "metadata": {},
   "outputs": [],
   "source": [
    "# create groups for 50 song for df1 and df2\n",
    "chunks_df1 = [df1.iloc[i:i+50] for i in range(0, len(df1), 50)]"
   ]
  },
  {
   "cell_type": "code",
   "execution_count": 10,
   "id": "2c6d2b13-e565-4295-b935-082895180dd0",
   "metadata": {},
   "outputs": [],
   "source": [
    "# create groups fo 50 song for df1\n",
    "chunks_df2 = [df2[i:i + 50] for i in range(0, len(df2), 50)]"
   ]
  },
  {
   "cell_type": "code",
   "execution_count": 11,
   "id": "e1bad14c-84c1-4d31-b9fd-63126d0eaf89",
   "metadata": {},
   "outputs": [
    {
     "name": "stdout",
     "output_type": "stream",
     "text": [
      "finished\n"
     ]
    }
   ],
   "source": [
    "#create the list of id's of df1\n",
    "song_ids_df1 = []\n",
    "for chunk in chunks_df1:\n",
    "    for index, row in chunk.iterrows():\n",
    "        song_id = search_song(row[\"Title\"], row[\"Artist\"])\n",
    "        song_ids_df1.append(song_id)\n",
    "    time.sleep(20)\n",
    "print('finished')"
   ]
  },
  {
   "cell_type": "code",
   "execution_count": 12,
   "id": "02bb5731-f1f0-488c-a3d8-68d20deb83cd",
   "metadata": {},
   "outputs": [
    {
     "ename": "TypeError",
     "evalue": "can only concatenate str (not \"float\") to str",
     "output_type": "error",
     "traceback": [
      "\u001b[0;31m---------------------------------------------------------------------------\u001b[0m",
      "\u001b[0;31mTypeError\u001b[0m                                 Traceback (most recent call last)",
      "Cell \u001b[0;32mIn[12], line 5\u001b[0m\n\u001b[1;32m      3\u001b[0m \u001b[38;5;28;01mfor\u001b[39;00m chunk \u001b[38;5;129;01min\u001b[39;00m chunks_df2:\n\u001b[1;32m      4\u001b[0m     \u001b[38;5;28;01mfor\u001b[39;00m index, row \u001b[38;5;129;01min\u001b[39;00m chunk\u001b[38;5;241m.\u001b[39miterrows():\n\u001b[0;32m----> 5\u001b[0m         song_id \u001b[38;5;241m=\u001b[39m \u001b[43msearch_song\u001b[49m\u001b[43m(\u001b[49m\u001b[43mrow\u001b[49m\u001b[43m[\u001b[49m\u001b[38;5;124;43m\"\u001b[39;49m\u001b[38;5;124;43mTitle\u001b[39;49m\u001b[38;5;124;43m\"\u001b[39;49m\u001b[43m]\u001b[49m\u001b[43m,\u001b[49m\u001b[43m \u001b[49m\u001b[43mrow\u001b[49m\u001b[43m[\u001b[49m\u001b[38;5;124;43m\"\u001b[39;49m\u001b[38;5;124;43mArtist\u001b[39;49m\u001b[38;5;124;43m\"\u001b[39;49m\u001b[43m]\u001b[49m\u001b[43m)\u001b[49m\n\u001b[1;32m      6\u001b[0m         song_ids_df2\u001b[38;5;241m.\u001b[39mappend(song_id)\n\u001b[1;32m      7\u001b[0m     time\u001b[38;5;241m.\u001b[39msleep(\u001b[38;5;241m20\u001b[39m)\n",
      "Cell \u001b[0;32mIn[3], line 3\u001b[0m, in \u001b[0;36msearch_song\u001b[0;34m(title, artist)\u001b[0m\n\u001b[1;32m      1\u001b[0m \u001b[38;5;28;01mdef\u001b[39;00m \u001b[38;5;21msearch_song\u001b[39m(title, artist):\n\u001b[0;32m----> 3\u001b[0m     query \u001b[38;5;241m=\u001b[39m \u001b[38;5;124;43m\"\u001b[39;49m\u001b[38;5;124;43mtracks: \u001b[39;49m\u001b[38;5;124;43m\"\u001b[39;49m\u001b[38;5;241;43m+\u001b[39;49m\u001b[43mtitle\u001b[49m\u001b[38;5;241m+\u001b[39m\u001b[38;5;124m\"\u001b[39m\u001b[38;5;124m artist: \u001b[39m\u001b[38;5;124m\"\u001b[39m\u001b[38;5;241m+\u001b[39martist\n\u001b[1;32m      4\u001b[0m     \u001b[38;5;66;03m#print(query)\u001b[39;00m\n\u001b[1;32m      6\u001b[0m     \u001b[38;5;28;01mtry\u001b[39;00m:\n",
      "\u001b[0;31mTypeError\u001b[0m: can only concatenate str (not \"float\") to str"
     ]
    }
   ],
   "source": [
    "#create the list of id's of df2\n",
    "song_ids_df2 = []\n",
    "for chunk in chunks_df2:\n",
    "    for index, row in chunk.iterrows():\n",
    "        song_id = search_song(row[\"Title\"], row[\"Artist\"])\n",
    "        song_ids_df2.append(song_id)\n",
    "    time.sleep(20)\n",
    "print('finished')"
   ]
  },
  {
   "cell_type": "code",
   "execution_count": null,
   "id": "5466d3c2-1253-4bf5-b0c1-1e9d7cc432cf",
   "metadata": {},
   "outputs": [],
   "source": [
    "len(song_ids_df1)"
   ]
  },
  {
   "cell_type": "code",
   "execution_count": null,
   "id": "6c68d9c8-4c35-4cb9-ac4a-a6d8b31cc0c3",
   "metadata": {
    "tags": []
   },
   "outputs": [],
   "source": [
    " def get_audio_features(list_of_song_ids):\n",
    "    \n",
    "    chunks = [list_of_song_ids[i:i + 50] for i in range(0, len(list_of_song_ids), 50)]\n",
    "    \n",
    "    # Create a dictionary to store the audio features\n",
    "    audio_features_dict = {\n",
    "        'id': [],\n",
    "        'energy': [],\n",
    "        'key': [],\n",
    "        'acousticness': [],\n",
    "        'instrumentalness': [],\n",
    "        'liveness': [],\n",
    "        'tempo': [],\n",
    "        'type': [],\n",
    "        'uri': [],\n",
    "        'track_href': [],\n",
    "        'analysis_url': [],\n",
    "        'duration_ms': [],\n",
    "    }\n",
    "    \n",
    "    # Retrieve the audio features for each chunk\n",
    "    for chunk in chunks:\n",
    "        audio_features = sp.audio_features(chunk)\n",
    "        \n",
    "        # Append the audio features to the dictionary\n",
    "        for feature in audio_features:\n",
    "            if feature:\n",
    "                for key in audio_features_dict.keys():\n",
    "                    audio_features_dict[key].append(feature[key])\n",
    "        \n",
    "        # Wait 20 seconds before next API call\n",
    "        time.sleep(20)\n",
    "\n",
    "    # Create a DataFrame from the dictionary\n",
    "    df = pd.DataFrame(audio_features_dict)\n",
    "\n",
    "    return df"
   ]
  },
  {
   "cell_type": "code",
   "execution_count": null,
   "id": "ddf2bd6a-ebb2-4fb8-99aa-992df9d7167f",
   "metadata": {},
   "outputs": [],
   "source": [
    "df3 = get_audio_features(song_ids_df1)\n",
    "len(df3)"
   ]
  },
  {
   "cell_type": "code",
   "execution_count": null,
   "id": "937f1c8e-e4ce-49b5-baea-b2e1277f5950",
   "metadata": {
    "tags": []
   },
   "outputs": [],
   "source": [
    "results_hot100 = pd.concat([df1, df3], axis=1)\n",
    "results_hot100.head()"
   ]
  },
  {
   "cell_type": "code",
   "execution_count": null,
   "id": "6654f9d5-406e-4227-a8db-11225d3a8a86",
   "metadata": {},
   "outputs": [],
   "source": [
    "results_hot100.to_csv('results_hot100.csv', index=False)"
   ]
  },
  {
   "cell_type": "code",
   "execution_count": null,
   "id": "ef5e0d16-bb56-42c9-9e7c-08a74e75d826",
   "metadata": {},
   "outputs": [],
   "source": [
    "len(song_ids_df2)"
   ]
  },
  {
   "cell_type": "code",
   "execution_count": null,
   "id": "e47e0271-5aea-43b3-b85b-a99f1ea87355",
   "metadata": {},
   "outputs": [],
   "source": [
    "#to get the index which has 'not_found'\n",
    "index_list = []\n",
    "for i in range(0,2499):\n",
    "    if song_ids_df2[i] == 'not_found':\n",
    "        index_list.append(i)\n",
    "index_list "
   ]
  },
  {
   "cell_type": "code",
   "execution_count": null,
   "id": "3311960d-062b-4820-a4cc-77df2646e016",
   "metadata": {},
   "outputs": [],
   "source": [
    "list_of_valid_id = []\n",
    "for x in song_ids_df2:\n",
    "    if x != 'not_found':\n",
    "        list_of_valid_id.append(x)\n",
    "song_ids_df2 = list_of_valid_id"
   ]
  },
  {
   "cell_type": "code",
   "execution_count": null,
   "id": "d85b19b2-7afa-4636-99be-57eb44b09fd5",
   "metadata": {},
   "outputs": [],
   "source": [
    "len(song_ids_df2)"
   ]
  },
  {
   "cell_type": "code",
   "execution_count": null,
   "id": "7a81dc20-29b9-4e39-8b04-c8b3b3cce9aa",
   "metadata": {},
   "outputs": [],
   "source": [
    "df4 = get_audio_features(song_ids_df2)"
   ]
  },
  {
   "cell_type": "code",
   "execution_count": null,
   "id": "56464f65-6aa9-4b78-9106-105795e015cd",
   "metadata": {},
   "outputs": [],
   "source": [
    "df4.shape"
   ]
  },
  {
   "cell_type": "code",
   "execution_count": null,
   "id": "8a6ae028-2663-4865-b422-98cf175e9c4c",
   "metadata": {},
   "outputs": [],
   "source": [
    "results_nothot100 = pd.concat([df2, df4], axis=1)\n",
    "results_nothot100"
   ]
  },
  {
   "cell_type": "code",
   "execution_count": null,
   "id": "4bf2baa9-2dc8-43d7-9c76-cbad5692a094",
   "metadata": {},
   "outputs": [],
   "source": [
    "results_nothot100.dropna(subset=['id'], inplace=True)\n",
    "results_nothot100"
   ]
  },
  {
   "cell_type": "code",
   "execution_count": null,
   "id": "4df54186-05b1-4096-8d21-8a76863dbd4f",
   "metadata": {},
   "outputs": [],
   "source": [
    "results_nothot100.to_csv('results_nothot100.csv', index=False)"
   ]
  },
  {
   "cell_type": "code",
   "execution_count": null,
   "id": "a886288f-8087-4176-8887-92fe29d6b9d0",
   "metadata": {},
   "outputs": [],
   "source": []
  }
 ],
 "metadata": {
  "kernelspec": {
   "display_name": "Python 3 (ipykernel)",
   "language": "python",
   "name": "python3"
  },
  "language_info": {
   "codemirror_mode": {
    "name": "ipython",
    "version": 3
   },
   "file_extension": ".py",
   "mimetype": "text/x-python",
   "name": "python",
   "nbconvert_exporter": "python",
   "pygments_lexer": "ipython3",
   "version": "3.10.9"
  }
 },
 "nbformat": 4,
 "nbformat_minor": 5
}
