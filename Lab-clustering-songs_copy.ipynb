{
 "cells": [
  {
   "cell_type": "markdown",
   "id": "07839d19-0497-457f-b90f-ff0af571c22d",
   "metadata": {},
   "source": [
    "LAB CLUSTERING SONGS"
   ]
  },
  {
   "cell_type": "code",
   "execution_count": 5,
   "id": "9d6fd92c-35ad-4ce2-a232-7b1b81002a77",
   "metadata": {},
   "outputs": [],
   "source": [
    "import pandas as pd"
   ]
  },
  {
   "cell_type": "code",
   "execution_count": 6,
   "id": "c6812ead-ceee-4d48-b4c9-ce643db6b973",
   "metadata": {},
   "outputs": [
    {
     "ename": "FileNotFoundError",
     "evalue": "[Errno 2] No such file or directory: '/Users/jxhn/Desktop/IRONHACK/Week_6/Day_2/Afternoon/lab-spotify-api/hot100.csv'",
     "output_type": "error",
     "traceback": [
      "\u001b[0;31m---------------------------------------------------------------------------\u001b[0m",
      "\u001b[0;31mFileNotFoundError\u001b[0m                         Traceback (most recent call last)",
      "Cell \u001b[0;32mIn[6], line 1\u001b[0m\n\u001b[0;32m----> 1\u001b[0m hot100 \u001b[38;5;241m=\u001b[39m \u001b[43mpd\u001b[49m\u001b[38;5;241;43m.\u001b[39;49m\u001b[43mread_csv\u001b[49m\u001b[43m(\u001b[49m\u001b[38;5;124;43m'\u001b[39;49m\u001b[38;5;124;43m/Users/jxhn/Desktop/IRONHACK/Week_6/Day_2/Afternoon/lab-spotify-api/hot100.csv\u001b[39;49m\u001b[38;5;124;43m'\u001b[39;49m\u001b[43m)\u001b[49m\n\u001b[1;32m      2\u001b[0m nothot100 \u001b[38;5;241m=\u001b[39m pd\u001b[38;5;241m.\u001b[39mread_csv(\u001b[38;5;124m'\u001b[39m\u001b[38;5;124m/Users/jxhn/Desktop/IRONHACK/Week_6/Day_2/Afternoon/lab-spotify-api/not_hot100.csv\u001b[39m\u001b[38;5;124m'\u001b[39m)\n",
      "File \u001b[0;32m~/anaconda3/lib/python3.10/site-packages/pandas/util/_decorators.py:211\u001b[0m, in \u001b[0;36mdeprecate_kwarg.<locals>._deprecate_kwarg.<locals>.wrapper\u001b[0;34m(*args, **kwargs)\u001b[0m\n\u001b[1;32m    209\u001b[0m     \u001b[38;5;28;01melse\u001b[39;00m:\n\u001b[1;32m    210\u001b[0m         kwargs[new_arg_name] \u001b[38;5;241m=\u001b[39m new_arg_value\n\u001b[0;32m--> 211\u001b[0m \u001b[38;5;28;01mreturn\u001b[39;00m \u001b[43mfunc\u001b[49m\u001b[43m(\u001b[49m\u001b[38;5;241;43m*\u001b[39;49m\u001b[43margs\u001b[49m\u001b[43m,\u001b[49m\u001b[43m \u001b[49m\u001b[38;5;241;43m*\u001b[39;49m\u001b[38;5;241;43m*\u001b[39;49m\u001b[43mkwargs\u001b[49m\u001b[43m)\u001b[49m\n",
      "File \u001b[0;32m~/anaconda3/lib/python3.10/site-packages/pandas/util/_decorators.py:331\u001b[0m, in \u001b[0;36mdeprecate_nonkeyword_arguments.<locals>.decorate.<locals>.wrapper\u001b[0;34m(*args, **kwargs)\u001b[0m\n\u001b[1;32m    325\u001b[0m \u001b[38;5;28;01mif\u001b[39;00m \u001b[38;5;28mlen\u001b[39m(args) \u001b[38;5;241m>\u001b[39m num_allow_args:\n\u001b[1;32m    326\u001b[0m     warnings\u001b[38;5;241m.\u001b[39mwarn(\n\u001b[1;32m    327\u001b[0m         msg\u001b[38;5;241m.\u001b[39mformat(arguments\u001b[38;5;241m=\u001b[39m_format_argument_list(allow_args)),\n\u001b[1;32m    328\u001b[0m         \u001b[38;5;167;01mFutureWarning\u001b[39;00m,\n\u001b[1;32m    329\u001b[0m         stacklevel\u001b[38;5;241m=\u001b[39mfind_stack_level(),\n\u001b[1;32m    330\u001b[0m     )\n\u001b[0;32m--> 331\u001b[0m \u001b[38;5;28;01mreturn\u001b[39;00m \u001b[43mfunc\u001b[49m\u001b[43m(\u001b[49m\u001b[38;5;241;43m*\u001b[39;49m\u001b[43margs\u001b[49m\u001b[43m,\u001b[49m\u001b[43m \u001b[49m\u001b[38;5;241;43m*\u001b[39;49m\u001b[38;5;241;43m*\u001b[39;49m\u001b[43mkwargs\u001b[49m\u001b[43m)\u001b[49m\n",
      "File \u001b[0;32m~/anaconda3/lib/python3.10/site-packages/pandas/io/parsers/readers.py:950\u001b[0m, in \u001b[0;36mread_csv\u001b[0;34m(filepath_or_buffer, sep, delimiter, header, names, index_col, usecols, squeeze, prefix, mangle_dupe_cols, dtype, engine, converters, true_values, false_values, skipinitialspace, skiprows, skipfooter, nrows, na_values, keep_default_na, na_filter, verbose, skip_blank_lines, parse_dates, infer_datetime_format, keep_date_col, date_parser, dayfirst, cache_dates, iterator, chunksize, compression, thousands, decimal, lineterminator, quotechar, quoting, doublequote, escapechar, comment, encoding, encoding_errors, dialect, error_bad_lines, warn_bad_lines, on_bad_lines, delim_whitespace, low_memory, memory_map, float_precision, storage_options)\u001b[0m\n\u001b[1;32m    935\u001b[0m kwds_defaults \u001b[38;5;241m=\u001b[39m _refine_defaults_read(\n\u001b[1;32m    936\u001b[0m     dialect,\n\u001b[1;32m    937\u001b[0m     delimiter,\n\u001b[0;32m   (...)\u001b[0m\n\u001b[1;32m    946\u001b[0m     defaults\u001b[38;5;241m=\u001b[39m{\u001b[38;5;124m\"\u001b[39m\u001b[38;5;124mdelimiter\u001b[39m\u001b[38;5;124m\"\u001b[39m: \u001b[38;5;124m\"\u001b[39m\u001b[38;5;124m,\u001b[39m\u001b[38;5;124m\"\u001b[39m},\n\u001b[1;32m    947\u001b[0m )\n\u001b[1;32m    948\u001b[0m kwds\u001b[38;5;241m.\u001b[39mupdate(kwds_defaults)\n\u001b[0;32m--> 950\u001b[0m \u001b[38;5;28;01mreturn\u001b[39;00m \u001b[43m_read\u001b[49m\u001b[43m(\u001b[49m\u001b[43mfilepath_or_buffer\u001b[49m\u001b[43m,\u001b[49m\u001b[43m \u001b[49m\u001b[43mkwds\u001b[49m\u001b[43m)\u001b[49m\n",
      "File \u001b[0;32m~/anaconda3/lib/python3.10/site-packages/pandas/io/parsers/readers.py:605\u001b[0m, in \u001b[0;36m_read\u001b[0;34m(filepath_or_buffer, kwds)\u001b[0m\n\u001b[1;32m    602\u001b[0m _validate_names(kwds\u001b[38;5;241m.\u001b[39mget(\u001b[38;5;124m\"\u001b[39m\u001b[38;5;124mnames\u001b[39m\u001b[38;5;124m\"\u001b[39m, \u001b[38;5;28;01mNone\u001b[39;00m))\n\u001b[1;32m    604\u001b[0m \u001b[38;5;66;03m# Create the parser.\u001b[39;00m\n\u001b[0;32m--> 605\u001b[0m parser \u001b[38;5;241m=\u001b[39m \u001b[43mTextFileReader\u001b[49m\u001b[43m(\u001b[49m\u001b[43mfilepath_or_buffer\u001b[49m\u001b[43m,\u001b[49m\u001b[43m \u001b[49m\u001b[38;5;241;43m*\u001b[39;49m\u001b[38;5;241;43m*\u001b[39;49m\u001b[43mkwds\u001b[49m\u001b[43m)\u001b[49m\n\u001b[1;32m    607\u001b[0m \u001b[38;5;28;01mif\u001b[39;00m chunksize \u001b[38;5;129;01mor\u001b[39;00m iterator:\n\u001b[1;32m    608\u001b[0m     \u001b[38;5;28;01mreturn\u001b[39;00m parser\n",
      "File \u001b[0;32m~/anaconda3/lib/python3.10/site-packages/pandas/io/parsers/readers.py:1442\u001b[0m, in \u001b[0;36mTextFileReader.__init__\u001b[0;34m(self, f, engine, **kwds)\u001b[0m\n\u001b[1;32m   1439\u001b[0m     \u001b[38;5;28mself\u001b[39m\u001b[38;5;241m.\u001b[39moptions[\u001b[38;5;124m\"\u001b[39m\u001b[38;5;124mhas_index_names\u001b[39m\u001b[38;5;124m\"\u001b[39m] \u001b[38;5;241m=\u001b[39m kwds[\u001b[38;5;124m\"\u001b[39m\u001b[38;5;124mhas_index_names\u001b[39m\u001b[38;5;124m\"\u001b[39m]\n\u001b[1;32m   1441\u001b[0m \u001b[38;5;28mself\u001b[39m\u001b[38;5;241m.\u001b[39mhandles: IOHandles \u001b[38;5;241m|\u001b[39m \u001b[38;5;28;01mNone\u001b[39;00m \u001b[38;5;241m=\u001b[39m \u001b[38;5;28;01mNone\u001b[39;00m\n\u001b[0;32m-> 1442\u001b[0m \u001b[38;5;28mself\u001b[39m\u001b[38;5;241m.\u001b[39m_engine \u001b[38;5;241m=\u001b[39m \u001b[38;5;28;43mself\u001b[39;49m\u001b[38;5;241;43m.\u001b[39;49m\u001b[43m_make_engine\u001b[49m\u001b[43m(\u001b[49m\u001b[43mf\u001b[49m\u001b[43m,\u001b[49m\u001b[43m \u001b[49m\u001b[38;5;28;43mself\u001b[39;49m\u001b[38;5;241;43m.\u001b[39;49m\u001b[43mengine\u001b[49m\u001b[43m)\u001b[49m\n",
      "File \u001b[0;32m~/anaconda3/lib/python3.10/site-packages/pandas/io/parsers/readers.py:1735\u001b[0m, in \u001b[0;36mTextFileReader._make_engine\u001b[0;34m(self, f, engine)\u001b[0m\n\u001b[1;32m   1733\u001b[0m     \u001b[38;5;28;01mif\u001b[39;00m \u001b[38;5;124m\"\u001b[39m\u001b[38;5;124mb\u001b[39m\u001b[38;5;124m\"\u001b[39m \u001b[38;5;129;01mnot\u001b[39;00m \u001b[38;5;129;01min\u001b[39;00m mode:\n\u001b[1;32m   1734\u001b[0m         mode \u001b[38;5;241m+\u001b[39m\u001b[38;5;241m=\u001b[39m \u001b[38;5;124m\"\u001b[39m\u001b[38;5;124mb\u001b[39m\u001b[38;5;124m\"\u001b[39m\n\u001b[0;32m-> 1735\u001b[0m \u001b[38;5;28mself\u001b[39m\u001b[38;5;241m.\u001b[39mhandles \u001b[38;5;241m=\u001b[39m \u001b[43mget_handle\u001b[49m\u001b[43m(\u001b[49m\n\u001b[1;32m   1736\u001b[0m \u001b[43m    \u001b[49m\u001b[43mf\u001b[49m\u001b[43m,\u001b[49m\n\u001b[1;32m   1737\u001b[0m \u001b[43m    \u001b[49m\u001b[43mmode\u001b[49m\u001b[43m,\u001b[49m\n\u001b[1;32m   1738\u001b[0m \u001b[43m    \u001b[49m\u001b[43mencoding\u001b[49m\u001b[38;5;241;43m=\u001b[39;49m\u001b[38;5;28;43mself\u001b[39;49m\u001b[38;5;241;43m.\u001b[39;49m\u001b[43moptions\u001b[49m\u001b[38;5;241;43m.\u001b[39;49m\u001b[43mget\u001b[49m\u001b[43m(\u001b[49m\u001b[38;5;124;43m\"\u001b[39;49m\u001b[38;5;124;43mencoding\u001b[39;49m\u001b[38;5;124;43m\"\u001b[39;49m\u001b[43m,\u001b[49m\u001b[43m \u001b[49m\u001b[38;5;28;43;01mNone\u001b[39;49;00m\u001b[43m)\u001b[49m\u001b[43m,\u001b[49m\n\u001b[1;32m   1739\u001b[0m \u001b[43m    \u001b[49m\u001b[43mcompression\u001b[49m\u001b[38;5;241;43m=\u001b[39;49m\u001b[38;5;28;43mself\u001b[39;49m\u001b[38;5;241;43m.\u001b[39;49m\u001b[43moptions\u001b[49m\u001b[38;5;241;43m.\u001b[39;49m\u001b[43mget\u001b[49m\u001b[43m(\u001b[49m\u001b[38;5;124;43m\"\u001b[39;49m\u001b[38;5;124;43mcompression\u001b[39;49m\u001b[38;5;124;43m\"\u001b[39;49m\u001b[43m,\u001b[49m\u001b[43m \u001b[49m\u001b[38;5;28;43;01mNone\u001b[39;49;00m\u001b[43m)\u001b[49m\u001b[43m,\u001b[49m\n\u001b[1;32m   1740\u001b[0m \u001b[43m    \u001b[49m\u001b[43mmemory_map\u001b[49m\u001b[38;5;241;43m=\u001b[39;49m\u001b[38;5;28;43mself\u001b[39;49m\u001b[38;5;241;43m.\u001b[39;49m\u001b[43moptions\u001b[49m\u001b[38;5;241;43m.\u001b[39;49m\u001b[43mget\u001b[49m\u001b[43m(\u001b[49m\u001b[38;5;124;43m\"\u001b[39;49m\u001b[38;5;124;43mmemory_map\u001b[39;49m\u001b[38;5;124;43m\"\u001b[39;49m\u001b[43m,\u001b[49m\u001b[43m \u001b[49m\u001b[38;5;28;43;01mFalse\u001b[39;49;00m\u001b[43m)\u001b[49m\u001b[43m,\u001b[49m\n\u001b[1;32m   1741\u001b[0m \u001b[43m    \u001b[49m\u001b[43mis_text\u001b[49m\u001b[38;5;241;43m=\u001b[39;49m\u001b[43mis_text\u001b[49m\u001b[43m,\u001b[49m\n\u001b[1;32m   1742\u001b[0m \u001b[43m    \u001b[49m\u001b[43merrors\u001b[49m\u001b[38;5;241;43m=\u001b[39;49m\u001b[38;5;28;43mself\u001b[39;49m\u001b[38;5;241;43m.\u001b[39;49m\u001b[43moptions\u001b[49m\u001b[38;5;241;43m.\u001b[39;49m\u001b[43mget\u001b[49m\u001b[43m(\u001b[49m\u001b[38;5;124;43m\"\u001b[39;49m\u001b[38;5;124;43mencoding_errors\u001b[39;49m\u001b[38;5;124;43m\"\u001b[39;49m\u001b[43m,\u001b[49m\u001b[43m \u001b[49m\u001b[38;5;124;43m\"\u001b[39;49m\u001b[38;5;124;43mstrict\u001b[39;49m\u001b[38;5;124;43m\"\u001b[39;49m\u001b[43m)\u001b[49m\u001b[43m,\u001b[49m\n\u001b[1;32m   1743\u001b[0m \u001b[43m    \u001b[49m\u001b[43mstorage_options\u001b[49m\u001b[38;5;241;43m=\u001b[39;49m\u001b[38;5;28;43mself\u001b[39;49m\u001b[38;5;241;43m.\u001b[39;49m\u001b[43moptions\u001b[49m\u001b[38;5;241;43m.\u001b[39;49m\u001b[43mget\u001b[49m\u001b[43m(\u001b[49m\u001b[38;5;124;43m\"\u001b[39;49m\u001b[38;5;124;43mstorage_options\u001b[39;49m\u001b[38;5;124;43m\"\u001b[39;49m\u001b[43m,\u001b[49m\u001b[43m \u001b[49m\u001b[38;5;28;43;01mNone\u001b[39;49;00m\u001b[43m)\u001b[49m\u001b[43m,\u001b[49m\n\u001b[1;32m   1744\u001b[0m \u001b[43m\u001b[49m\u001b[43m)\u001b[49m\n\u001b[1;32m   1745\u001b[0m \u001b[38;5;28;01massert\u001b[39;00m \u001b[38;5;28mself\u001b[39m\u001b[38;5;241m.\u001b[39mhandles \u001b[38;5;129;01mis\u001b[39;00m \u001b[38;5;129;01mnot\u001b[39;00m \u001b[38;5;28;01mNone\u001b[39;00m\n\u001b[1;32m   1746\u001b[0m f \u001b[38;5;241m=\u001b[39m \u001b[38;5;28mself\u001b[39m\u001b[38;5;241m.\u001b[39mhandles\u001b[38;5;241m.\u001b[39mhandle\n",
      "File \u001b[0;32m~/anaconda3/lib/python3.10/site-packages/pandas/io/common.py:856\u001b[0m, in \u001b[0;36mget_handle\u001b[0;34m(path_or_buf, mode, encoding, compression, memory_map, is_text, errors, storage_options)\u001b[0m\n\u001b[1;32m    851\u001b[0m \u001b[38;5;28;01melif\u001b[39;00m \u001b[38;5;28misinstance\u001b[39m(handle, \u001b[38;5;28mstr\u001b[39m):\n\u001b[1;32m    852\u001b[0m     \u001b[38;5;66;03m# Check whether the filename is to be opened in binary mode.\u001b[39;00m\n\u001b[1;32m    853\u001b[0m     \u001b[38;5;66;03m# Binary mode does not support 'encoding' and 'newline'.\u001b[39;00m\n\u001b[1;32m    854\u001b[0m     \u001b[38;5;28;01mif\u001b[39;00m ioargs\u001b[38;5;241m.\u001b[39mencoding \u001b[38;5;129;01mand\u001b[39;00m \u001b[38;5;124m\"\u001b[39m\u001b[38;5;124mb\u001b[39m\u001b[38;5;124m\"\u001b[39m \u001b[38;5;129;01mnot\u001b[39;00m \u001b[38;5;129;01min\u001b[39;00m ioargs\u001b[38;5;241m.\u001b[39mmode:\n\u001b[1;32m    855\u001b[0m         \u001b[38;5;66;03m# Encoding\u001b[39;00m\n\u001b[0;32m--> 856\u001b[0m         handle \u001b[38;5;241m=\u001b[39m \u001b[38;5;28;43mopen\u001b[39;49m\u001b[43m(\u001b[49m\n\u001b[1;32m    857\u001b[0m \u001b[43m            \u001b[49m\u001b[43mhandle\u001b[49m\u001b[43m,\u001b[49m\n\u001b[1;32m    858\u001b[0m \u001b[43m            \u001b[49m\u001b[43mioargs\u001b[49m\u001b[38;5;241;43m.\u001b[39;49m\u001b[43mmode\u001b[49m\u001b[43m,\u001b[49m\n\u001b[1;32m    859\u001b[0m \u001b[43m            \u001b[49m\u001b[43mencoding\u001b[49m\u001b[38;5;241;43m=\u001b[39;49m\u001b[43mioargs\u001b[49m\u001b[38;5;241;43m.\u001b[39;49m\u001b[43mencoding\u001b[49m\u001b[43m,\u001b[49m\n\u001b[1;32m    860\u001b[0m \u001b[43m            \u001b[49m\u001b[43merrors\u001b[49m\u001b[38;5;241;43m=\u001b[39;49m\u001b[43merrors\u001b[49m\u001b[43m,\u001b[49m\n\u001b[1;32m    861\u001b[0m \u001b[43m            \u001b[49m\u001b[43mnewline\u001b[49m\u001b[38;5;241;43m=\u001b[39;49m\u001b[38;5;124;43m\"\u001b[39;49m\u001b[38;5;124;43m\"\u001b[39;49m\u001b[43m,\u001b[49m\n\u001b[1;32m    862\u001b[0m \u001b[43m        \u001b[49m\u001b[43m)\u001b[49m\n\u001b[1;32m    863\u001b[0m     \u001b[38;5;28;01melse\u001b[39;00m:\n\u001b[1;32m    864\u001b[0m         \u001b[38;5;66;03m# Binary mode\u001b[39;00m\n\u001b[1;32m    865\u001b[0m         handle \u001b[38;5;241m=\u001b[39m \u001b[38;5;28mopen\u001b[39m(handle, ioargs\u001b[38;5;241m.\u001b[39mmode)\n",
      "\u001b[0;31mFileNotFoundError\u001b[0m: [Errno 2] No such file or directory: '/Users/jxhn/Desktop/IRONHACK/Week_6/Day_2/Afternoon/lab-spotify-api/hot100.csv'"
     ]
    }
   ],
   "source": [
    "hot100 = pd.read_csv('/Users/jxhn/Desktop/IRONHACK/Week_6/Day_2/Afternoon/lab-spotify-api/hot100.csv')\n",
    "nothot100 = pd.read_csv('/Users/jxhn/Desktop/IRONHACK/Week_6/Song_recommender/Song-Recommender/nothot100.csv')"
   ]
  },
  {
   "cell_type": "code",
   "execution_count": null,
   "id": "2b08357e-5bf2-4222-ba5a-4f6874e4ecff",
   "metadata": {},
   "outputs": [],
   "source": [
    "hot100['set'] = 'H'\n",
    "hot100"
   ]
  },
  {
   "cell_type": "code",
   "execution_count": null,
   "id": "7ca89a27-4217-4df3-9d67-e07f3e5d0354",
   "metadata": {},
   "outputs": [],
   "source": [
    "nothot100['set'] = 'N'\n",
    "nothot100"
   ]
  },
  {
   "cell_type": "code",
   "execution_count": null,
   "id": "98d99fd5-696a-44ac-9892-9c1f6868c953",
   "metadata": {},
   "outputs": [],
   "source": [
    "songs = pd.concat([hot100, nothot100], ignore_index=True)\n",
    "songs"
   ]
  },
  {
   "cell_type": "code",
   "execution_count": null,
   "id": "b6f177f4-f4c2-476b-a862-f5edbaef1828",
   "metadata": {},
   "outputs": [],
   "source": [
    "songs = songs.drop_duplicates()\n",
    "songs.shape"
   ]
  },
  {
   "cell_type": "code",
   "execution_count": null,
   "id": "bedcce70-9c66-4d0f-94af-41b05a48fb78",
   "metadata": {},
   "outputs": [],
   "source": [
    "from sklearn import datasets\n",
    "from sklearn.preprocessing import StandardScaler\n",
    "from sklearn.cluster import KMeans\n",
    "from sklearn.metrics import silhouette_score"
   ]
  },
  {
   "cell_type": "code",
   "execution_count": null,
   "id": "c2200551-b713-40eb-810a-08ebee350820",
   "metadata": {},
   "outputs": [],
   "source": [
    "numerical_songs = songs.select_dtypes(include='number')\n",
    "numerical_songs"
   ]
  },
  {
   "cell_type": "code",
   "execution_count": null,
   "id": "90974fb5-3184-477f-86b7-eb12c291c88c",
   "metadata": {},
   "outputs": [],
   "source": [
    "numerical_songs.describe()"
   ]
  },
  {
   "cell_type": "code",
   "execution_count": null,
   "id": "3d53d175-6e9e-4d94-9831-367a9adf46a7",
   "metadata": {},
   "outputs": [],
   "source": [
    "import pickle\n",
    "\n",
    "scaler = StandardScaler()\n",
    "scaler.fit(numerical_songs)\n",
    "numerical_songs_scaled = scaler.transform(numerical_songs)\n",
    "filename = \"scaler.pickle\" # Path with filename\n",
    "\n",
    "with open(filename, \"wb\") as file:\n",
    "        pickle.dump(scaler,file)\n",
    "\n",
    "numerical_songs_scaled_df = pd.DataFrame(numerical_songs_scaled, columns = numerical_songs.columns)\n",
    "display(numerical_songs_scaled_df.head())"
   ]
  },
  {
   "cell_type": "code",
   "execution_count": null,
   "id": "eb1fecef-edaa-4339-b43f-792c96325975",
   "metadata": {},
   "outputs": [],
   "source": [
    "numerical_songs_scaled_df.describe()"
   ]
  },
  {
   "cell_type": "markdown",
   "id": "ce29b697-324f-42e3-9370-976914aed08d",
   "metadata": {},
   "source": [
    "KMeans"
   ]
  },
  {
   "cell_type": "code",
   "execution_count": null,
   "id": "f9be4946-2106-461b-a78f-25b1d4eb6368",
   "metadata": {},
   "outputs": [],
   "source": [
    "K = range(8, 20)\n",
    "\n",
    "inertia = []\n",
    "silhouette = []\n",
    "\n",
    "for k in K:\n",
    "    print(\"Training a K-Means model with {} clusters! \".format(k))\n",
    "    print()\n",
    "    kmeans = KMeans(n_clusters=k,\n",
    "                    random_state=1234,\n",
    "                    verbose=1)\n",
    "    kmeans.fit(numerical_songs_scaled_df)\n",
    "    \n",
    "    filename = \"kmeans_\" + str(k) + \".pickle\" # Path with filename\n",
    "    with open(filename, \"wb\") as file:\n",
    "        pickle.dump(kmeans,file)\n",
    "\n",
    "    inertia.append(kmeans.inertia_)\n",
    "    silhouette.append(silhouette_score(numerical_songs_scaled_df, kmeans.predict(numerical_songs_scaled_df)))\n",
    "\n",
    "\n",
    "import numpy as np\n",
    "import matplotlib.pyplot as plt\n",
    "%matplotlib inline\n",
    "\n",
    "fig, ax = plt.subplots(1,2,figsize=(16,8))\n",
    "ax[0].plot(K, inertia, 'bx-')\n",
    "ax[0].set_xlabel('k')\n",
    "ax[0].set_ylabel('inertia')\n",
    "ax[0].set_xticks(np.arange(min(K), max(K)+1, 1.0))\n",
    "ax[0].set_title('Elbow Method showing the optimal k')\n",
    "ax[1].plot(K, silhouette, 'bx-')\n",
    "ax[1].set_xlabel('k')\n",
    "ax[1].set_ylabel('silhouette score')\n",
    "ax[1].set_xticks(np.arange(min(K), max(K)+1, 1.0))\n",
    "ax[1].set_title('Silhouette Method showing the optimal k')"
   ]
  },
  {
   "cell_type": "code",
   "execution_count": null,
   "id": "6c4573be-cf22-4457-8dc2-7d77abb38a1a",
   "metadata": {},
   "outputs": [],
   "source": [
    "# kmeans_9, kmean_12, kmean_15"
   ]
  },
  {
   "cell_type": "code",
   "execution_count": null,
   "id": "044dc90f-f21d-4eb4-965c-8673c588a942",
   "metadata": {},
   "outputs": [],
   "source": []
  },
  {
   "cell_type": "code",
   "execution_count": null,
   "id": "3edb6c45-a70c-4b38-9b56-f4eb33ef75c0",
   "metadata": {},
   "outputs": [],
   "source": [
    "def load(filename = \"filename.pickle\"): \n",
    "    try: \n",
    "        with open(filename, \"rb\") as file: \n",
    "            return pickle.load(file) \n",
    "    except FileNotFoundError: \n",
    "        print(\"File not found!\") \n"
   ]
  },
  {
   "cell_type": "code",
   "execution_count": null,
   "id": "b46e6d8d-0f58-431b-8aa4-794dfa53b474",
   "metadata": {},
   "outputs": [],
   "source": [
    "scaler2 = load(\"scaler.pickle\")\n",
    "scaler2"
   ]
  },
  {
   "cell_type": "code",
   "execution_count": null,
   "id": "16e257d6-370c-40ac-975a-bf61de58044c",
   "metadata": {},
   "outputs": [],
   "source": [
    "best_model = load(\"kmeans_12.pickle\")"
   ]
  },
  {
   "cell_type": "code",
   "execution_count": null,
   "id": "dc304428-0e77-4cff-9bde-74cdea1d0456",
   "metadata": {},
   "outputs": [],
   "source": [
    "best_model.predict(numerical_songs_scaled_df)"
   ]
  },
  {
   "cell_type": "code",
   "execution_count": null,
   "id": "9be07208-5c36-45a6-98f6-9a7b47ea0774",
   "metadata": {},
   "outputs": [],
   "source": [
    "len(best_model.predict(numerical_songs_scaled_df))"
   ]
  },
  {
   "cell_type": "code",
   "execution_count": null,
   "id": "ee8c2f59-4198-47c1-8b98-efcbc0fdb9b4",
   "metadata": {},
   "outputs": [],
   "source": [
    "array = best_model.predict(numerical_songs_scaled_df)"
   ]
  },
  {
   "cell_type": "code",
   "execution_count": null,
   "id": "39c5bc9d-7ac9-40c1-a1c3-11f7cfd9e15b",
   "metadata": {},
   "outputs": [],
   "source": [
    "songs['K12'] = array"
   ]
  },
  {
   "cell_type": "code",
   "execution_count": null,
   "id": "f329f1b4-4b3a-4b88-a020-53bb048b783c",
   "metadata": {},
   "outputs": [],
   "source": [
    "songs"
   ]
  },
  {
   "cell_type": "code",
   "execution_count": null,
   "id": "b9635a9e-efff-4e77-8770-333525b62bae",
   "metadata": {},
   "outputs": [],
   "source": []
  },
  {
   "cell_type": "code",
   "execution_count": null,
   "id": "03d2159d-e1b8-4a0e-9261-e33e36397141",
   "metadata": {},
   "outputs": [],
   "source": []
  },
  {
   "cell_type": "markdown",
   "id": "a909392c-4bb2-4db9-953e-37405291a4ee",
   "metadata": {},
   "source": [
    "DBSCAN"
   ]
  },
  {
   "cell_type": "code",
   "execution_count": null,
   "id": "2157013e-bd26-4180-b79a-b82c9ccd039e",
   "metadata": {},
   "outputs": [],
   "source": [
    "from sklearn.datasets import make_classification\n",
    "from sklearn.cluster import DBSCAN\n",
    "from sklearn.mixture import GaussianMixture\n",
    "from sklearn.preprocessing import StandardScaler\n",
    "from scipy.spatial import distance_matrix\n",
    "from sklearn.metrics import silhouette_score\n",
    "import matplotlib.pyplot as plt"
   ]
  },
  {
   "cell_type": "code",
   "execution_count": null,
   "id": "a1e28cb4-c3db-401f-b4d7-7e7dcfede978",
   "metadata": {},
   "outputs": [],
   "source": [
    "X_df = numerical_songs"
   ]
  },
  {
   "cell_type": "code",
   "execution_count": null,
   "id": "637cccea-601d-4ae9-affa-a502e43ab9fd",
   "metadata": {},
   "outputs": [],
   "source": [
    "scaler = StandardScaler()\n",
    "scaler.fit(X_df)\n",
    "X_scaled_np = scaler.transform(X_df)\n",
    "X_scaled_df = pd.DataFrame(X_scaled_np, columns=X_df.columns)\n",
    "model = DBSCAN()\n",
    "yhat = model.fit_predict(X_scaled_df)"
   ]
  },
  {
   "cell_type": "code",
   "execution_count": null,
   "id": "e64f6054-3d01-4b2d-8194-cd19d7dcee5f",
   "metadata": {},
   "outputs": [],
   "source": [
    "print(\"The Silhouette score of the model is: \",round(silhouette_score(X_scaled_df, model.fit_predict(X_scaled_df)),2))"
   ]
  },
  {
   "cell_type": "code",
   "execution_count": null,
   "id": "286003ca-f737-481f-9e82-fa6a422a7e51",
   "metadata": {},
   "outputs": [],
   "source": [
    "yhat"
   ]
  },
  {
   "cell_type": "code",
   "execution_count": null,
   "id": "097d5e66-7d8b-47fd-80c4-13e01d349b13",
   "metadata": {},
   "outputs": [],
   "source": [
    "X_df['cluster'] = yhat"
   ]
  },
  {
   "cell_type": "code",
   "execution_count": null,
   "id": "0e90ae42-788c-4def-a2cb-ceda7329caa2",
   "metadata": {},
   "outputs": [],
   "source": [
    "#STEP 1\n",
    "d = distance_matrix(X_scaled_df,X_scaled_df)\n",
    "print(d)\n",
    "print()"
   ]
  },
  {
   "cell_type": "code",
   "execution_count": null,
   "id": "ce524a4b-e810-41aa-8931-1bc5379f7339",
   "metadata": {},
   "outputs": [],
   "source": [
    "#STEP2\n",
    "d2 = np.sort(d)[:,1:]\n",
    "print(d2)"
   ]
  },
  {
   "cell_type": "code",
   "execution_count": null,
   "id": "57c29931-d86b-44cc-8f33-4ae98849ce04",
   "metadata": {},
   "outputs": [],
   "source": [
    "#STEP3\n",
    "f = d2[:,3]\n",
    "print(f)"
   ]
  },
  {
   "cell_type": "code",
   "execution_count": null,
   "id": "a6919994-a9c7-4088-9422-1b2f687a0bcd",
   "metadata": {},
   "outputs": [],
   "source": [
    "# STEP 4\n",
    "f_final = np.sort(f)[::-1]\n",
    "print()\n",
    "print(f_final)"
   ]
  },
  {
   "cell_type": "code",
   "execution_count": null,
   "id": "c2dd1f30-aec5-4f85-876a-952421b1c50d",
   "metadata": {},
   "outputs": [],
   "source": [
    "plt.scatter(range(1,len(f_final)+1), f_final)\n",
    "plt.xlabel(\"Index\")\n",
    "plt.ylabel(\"Distance\")\n",
    "# Get the index of the distance which is closer to 0.5 as 0.5 is the default value for epsilon in DBSCAN\n",
    "min_index = np.argmin(np.abs(f_final - 0.5))\n",
    "xnew = min_index\n",
    "ynew = f_final[min_index]\n",
    "plt.axvline(xnew, color='red', linewidth=0.5)\n",
    "plt.axhline(ynew, color='red', linewidth=0.5)\n",
    "plt.grid(b=True)\n",
    "plt.show()"
   ]
  },
  {
   "cell_type": "code",
   "execution_count": null,
   "id": "ad12328a-9521-47d1-a992-ff0eaecdb624",
   "metadata": {},
   "outputs": [],
   "source": [
    "np.arange(2,3,0.1)"
   ]
  },
  {
   "cell_type": "code",
   "execution_count": null,
   "id": "55f2f51e-f668-43c1-aa24-c04f1a91bc10",
   "metadata": {},
   "outputs": [],
   "source": [
    "models = {}\n",
    "\n",
    "for value in np.arange(2,3,0.1):\n",
    "    model = DBSCAN(eps=value, min_samples=16)\n",
    "    yhat = model.fit_predict(X_scaled_df)\n",
    "    n_clusters = len(set(yhat)) - (1 if -1 in yhat else 0) # number of clusters ignoring noise if present\n",
    "    if n_clusters > 1:\n",
    "        score =  round(silhouette_score(X_scaled_df, yhat), 2)\n",
    "    else:\n",
    "        score = None\n",
    "    models[\"model_\"+str(round(value,2))] = {\"model\":model,\"yhat\": yhat, \"score\": score}\n"
   ]
  },
  {
   "cell_type": "code",
   "execution_count": null,
   "id": "f5c2ca14-86fe-4593-b38b-9b3edce96797",
   "metadata": {},
   "outputs": [],
   "source": [
    "models"
   ]
  },
  {
   "cell_type": "code",
   "execution_count": null,
   "id": "4be56e4a-21ea-4b91-92bd-e8fb0bbb61ee",
   "metadata": {},
   "outputs": [],
   "source": [
    "clusters2 = np.unique(models[\"model_2.6\"][\"yhat\"])\n",
    "clusters2"
   ]
  },
  {
   "cell_type": "code",
   "execution_count": null,
   "id": "ace479b3-9588-4e03-93bc-afe8d0f22e1e",
   "metadata": {},
   "outputs": [],
   "source": [
    "models[\"model_2.6\"][\"score\"]"
   ]
  },
  {
   "cell_type": "code",
   "execution_count": null,
   "id": "0957405f-d323-4d42-868b-83cb1831d002",
   "metadata": {},
   "outputs": [],
   "source": [
    "len(list(models.keys()))"
   ]
  },
  {
   "cell_type": "code",
   "execution_count": null,
   "id": "793706fd-782a-40b6-b41b-13d3711c1ed0",
   "metadata": {},
   "outputs": [],
   "source": [
    "list(models.items())"
   ]
  },
  {
   "cell_type": "code",
   "execution_count": null,
   "id": "0b3b8246-ad2d-4690-8012-1d6e1b25de66",
   "metadata": {},
   "outputs": [],
   "source": []
  },
  {
   "cell_type": "code",
   "execution_count": null,
   "id": "d7236704-72f7-4d3d-afbd-146491a4ecd9",
   "metadata": {},
   "outputs": [],
   "source": [
    "list(models.items())[1:7]"
   ]
  },
  {
   "cell_type": "code",
   "execution_count": null,
   "id": "0585769a-88a8-4c65-9596-442796efa9aa",
   "metadata": {},
   "outputs": [],
   "source": [
    "import matplotlib.ticker as ticker\n",
    "\n",
    "epsilons = [2.1, 2.2, 2.3, 2.4, 2.5, 2.6]\n",
    "scores = [item[1][\"score\"] for item in list(models.items())[1:7]]\n",
    "\n",
    "fig, ax = plt.subplots(figsize=(12,7))\n",
    "ax.plot(epsilons, scores)\n",
    "ax.set_xlabel(\"Epsilon\")\n",
    "ax.set_ylabel(\"Silhouette score\")\n",
    "ax.xaxis.set_ticks(np.arange(min(epsilons), max(epsilons), 0.1))\n",
    "ax.xaxis.set_major_formatter(ticker.FormatStrFormatter('%0.2f'))\n",
    "ax.yaxis.set_ticks(np.arange(min(scores), max(scores)+0.1, 0.02))\n",
    "ax.yaxis.set_major_formatter(ticker.FormatStrFormatter('%0.2f'))\n",
    "plt.grid()\n",
    "plt.tight_layout()\n",
    "plt.show()"
   ]
  },
  {
   "cell_type": "code",
   "execution_count": null,
   "id": "1d11d8d3-9346-4258-ad82-44e6ec66c293",
   "metadata": {},
   "outputs": [],
   "source": [
    "model = DBSCAN(eps=2.5, min_samples=16)\n",
    "yhat = model.fit_predict(X_scaled_df)\n",
    "n_clusters = len(set(yhat)) - (1 if -1 in yhat else 0)\n",
    "model"
   ]
  },
  {
   "cell_type": "code",
   "execution_count": null,
   "id": "8f70d3a0-0211-4a47-b98e-609625ba60f6",
   "metadata": {},
   "outputs": [],
   "source": [
    "yhat"
   ]
  },
  {
   "cell_type": "code",
   "execution_count": null,
   "id": "c209d15f-a886-4996-a480-d528a67d229f",
   "metadata": {},
   "outputs": [],
   "source": [
    "songs['DBSCAN2.5']=yhat"
   ]
  },
  {
   "cell_type": "code",
   "execution_count": null,
   "id": "0d71bc77-8ee7-4887-a4fa-25f848ddab25",
   "metadata": {},
   "outputs": [],
   "source": [
    "songs"
   ]
  },
  {
   "cell_type": "code",
   "execution_count": null,
   "id": "18b1fece-0ae1-4ae5-970e-0d25d7fc5c7c",
   "metadata": {},
   "outputs": [],
   "source": [
    "songs.to_csv('song_recommender.csv', index=False)"
   ]
  },
  {
   "cell_type": "markdown",
   "id": "1382186d-bf3f-4928-8d8c-55af4d78aa10",
   "metadata": {},
   "source": [
    "The best Model is K12 in our case!!!"
   ]
  },
  {
   "cell_type": "code",
   "execution_count": null,
   "id": "4b20fa26-4e44-4fd0-905a-c69e25bd28e4",
   "metadata": {},
   "outputs": [],
   "source": []
  }
 ],
 "metadata": {
  "kernelspec": {
   "display_name": "Python 3 (ipykernel)",
   "language": "python",
   "name": "python3"
  },
  "language_info": {
   "codemirror_mode": {
    "name": "ipython",
    "version": 3
   },
   "file_extension": ".py",
   "mimetype": "text/x-python",
   "name": "python",
   "nbconvert_exporter": "python",
   "pygments_lexer": "ipython3",
   "version": "3.10.9"
  }
 },
 "nbformat": 4,
 "nbformat_minor": 5
}
